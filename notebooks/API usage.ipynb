{
 "cells": [
  {
   "cell_type": "code",
   "execution_count": 71,
   "metadata": {},
   "outputs": [
    {
     "name": "stdout",
     "output_type": "stream",
     "text": [
      "API call success\n"
     ]
    },
    {
     "data": {
      "text/plain": [
       "(200,\n",
       " 13.634983667920714,\n",
       " {'key': '2013-07-06 17:18:00.000000119',\n",
       "  'pickup_datetime': '2012-10-06 12:10:20',\n",
       "  'pickup_longitude': 40.7614327,\n",
       "  'pickup_latitude': -73.9798156,\n",
       "  'dropoff_longitude': 40.6413111,\n",
       "  'dropoff_latitude': -73.9797156,\n",
       "  'passenger_count': 1,\n",
       "  'prediction': 13.634983667920714})"
      ]
     },
     "execution_count": 71,
     "metadata": {},
     "output_type": "execute_result"
    }
   ],
   "source": [
    "import requests\n",
    "\n",
    "# fill the parameters for the prediction\n",
    "params2 = dict(\n",
    "  pickup_datetime='2012-10-06 12:10:20',\n",
    "  pickup_longitude=40.7614327,\n",
    "  pickup_latitude=-73.9798156,\n",
    "  dropoff_longitude=40.6413111,\n",
    "  dropoff_latitude=-73.9797156,\n",
    "  passenger_count=1\n",
    ")\n",
    "\n",
    "# params = dict(\n",
    "#   pickup_datetime='2012-10-06 12:10:20',\n",
    "#   pickup_longitude=40.7614327,\n",
    "#   pickup_latitude=-73.9798156,\n",
    "#   dropoff_longitude=40.6331166,\n",
    "#   dropoff_latitude=-73.8874078,    \n",
    "#   passenger_count=2\n",
    "# )\n",
    "\n",
    "# URL\n",
    "taxifare_api_url = \"http://127.0.0.1:8000/predict\"\n",
    "\n",
    "# retrieve the response\n",
    "response = requests.get(\n",
    "    taxifare_api_url,\n",
    "    params=params2\n",
    ")\n",
    "\n",
    "if response.status_code == 200:\n",
    "    print(\"API call success\")\n",
    "else:\n",
    "    print(\"API call error\")\n",
    "\n",
    "response.status_code, response.json().get(\"prediction\", \"no prediction\"), response.json()\n"
   ]
  },
  {
   "cell_type": "code",
   "execution_count": 66,
   "metadata": {},
   "outputs": [],
   "source": [
    "import pandas as pd\n",
    "import numpy as np\n",
    "from fastapi import FastAPI\n",
    "from fastapi.middleware.cors import CORSMiddleware\n",
    "from datetime import datetime\n",
    "import pytz\n",
    "import joblib\n",
    "from predict import download_model\n",
    "from google.cloud import storage\n",
    "\n",
    "PATH_TO_LOCAL_MODEL='../model.joblib'\n",
    "\n",
    "app = FastAPI()\n",
    "\n",
    "app.add_middleware(\n",
    "    CORSMiddleware,\n",
    "    allow_origins=[\"*\"],  # Allows all origins\n",
    "    allow_credentials=True,\n",
    "    allow_methods=[\"*\"],  # Allows all methods\n",
    "    allow_headers=[\"*\"],  # Allows all headers\n",
    ")\n",
    "\n",
    "@app.get(\"/\")\n",
    "def index():\n",
    "    return {\"greeting\": \"Hello world\"}\n",
    "\n",
    "\n",
    "@app.get(\"/predict\")\n",
    "def predict(pickup_datetime, pickup_longitude, pickup_latitude,\n",
    "          dropoff_longitude, dropoff_latitude, passenger_count):\n",
    "\n",
    "    X_pred_dict = {\n",
    "        'key': \"2013-07-06 17:18:00.000000119\",\n",
    "        'pickup_datetime': pickup_datetime,\n",
    "        'pickup_longitude': float(pickup_longitude),\n",
    "        'pickup_latitude': float(pickup_latitude),\n",
    "        'dropoff_longitude': float(dropoff_longitude),\n",
    "        'dropoff_latitude': float(dropoff_latitude),\n",
    "        'passenger_count': int(passenger_count)\n",
    "    }\n",
    "\n",
    "    X_pred = pd.DataFrame(X_pred_dict, index=[0])\n",
    "\n",
    "    # create a datetime object from the user provided datetime\n",
    "    pickup_datetime = datetime.strptime(pickup_datetime, \"%Y-%m-%d %H:%M:%S\")\n",
    "\n",
    "    # localize the user datetime with NYC timezone\n",
    "    eastern = pytz.timezone(\"US/Eastern\")\n",
    "    localized_pickup_datetime = eastern.localize(pickup_datetime, is_dst=None)\n",
    "\n",
    "    # localize the datetime to UTC\n",
    "    utc_pickup_datetime = localized_pickup_datetime.astimezone(pytz.utc)\n",
    "    formatted_pickup_datetime = utc_pickup_datetime.strftime(\"%Y-%m-%d %H:%M:%S UTC\")\n",
    "\n",
    "    X_pred['pickup_datetime'] = formatted_pickup_datetime\n",
    "\n",
    "#     pipeline = joblib.load(PATH_TO_LOCAL_MODEL)\n",
    "    pipeline = download_model(rm=False)\n",
    "\n",
    "    y_pred = pipeline.predict(X_pred)\n",
    "\n",
    "    X_pred_dict['prediction'] = y_pred[0]\n",
    "\n",
    "    return X_pred_dict"
   ]
  },
  {
   "cell_type": "code",
   "execution_count": 67,
   "metadata": {},
   "outputs": [],
   "source": [
    "MLFLOW_URI = \"https://mlflow.lewagon.co/\"\n",
    "EXPERIMENT_NAME = \"JPN Tokyo lorcanob TFM 0.1\"\n",
    "# PATH_TO_LOCAL_MODEL = 'model.joblib'\n",
    "AWS_BUCKET_TEST_PATH = \"s3://wagon-public-datasets/taxi-fare-test.csv\"\n",
    "BUCKET_NAME = 'wagon-data-728-odufuwabolger'\n",
    "BUCKET_TRAIN_DATA_PATH = 'data/train_1k.csv'\n",
    "MODEL_NAME = 'taxifare'\n",
    "MODEL_VERSION = 'v2'"
   ]
  },
  {
   "cell_type": "code",
   "execution_count": 68,
   "metadata": {},
   "outputs": [],
   "source": [
    "def download_model(model_directory=\"v2\", bucket=BUCKET_NAME, rm=True):\n",
    "    client = storage.Client().bucket(bucket)\n",
    "\n",
    "    storage_location = f'models/{MODEL_NAME}/{model_directory}/model.joblib'\n",
    "    blob = client.blob(storage_location)\n",
    "    blob.download_to_filename('model.joblib')\n",
    "    print(\"=> pipeline downloaded from storage\")\n",
    "    model = joblib.load('model.joblib')\n",
    "    if rm:\n",
    "        os.remove('model.joblib')\n",
    "    return model"
   ]
  },
  {
   "cell_type": "code",
   "execution_count": 69,
   "metadata": {},
   "outputs": [
    {
     "name": "stdout",
     "output_type": "stream",
     "text": [
      "=> pipeline downloaded from storage\n"
     ]
    },
    {
     "data": {
      "text/plain": [
       "{'key': '2013-07-06 17:18:00.000000119',\n",
       " 'pickup_datetime': '2012-10-06 12:10:20',\n",
       " 'pickup_longitude': 40.7614327,\n",
       " 'pickup_latitude': -73.9798156,\n",
       " 'dropoff_longitude': 40.6413111,\n",
       " 'dropoff_latitude': -73.9797156,\n",
       " 'passenger_count': 1,\n",
       " 'prediction': 13.634983667920714}"
      ]
     },
     "execution_count": 69,
     "metadata": {},
     "output_type": "execute_result"
    }
   ],
   "source": [
    "predict(*list(params2.values()))"
   ]
  },
  {
   "cell_type": "code",
   "execution_count": null,
   "metadata": {},
   "outputs": [],
   "source": []
  }
 ],
 "metadata": {
  "kernelspec": {
   "display_name": "Python 3 (ipykernel)",
   "language": "python",
   "name": "python3"
  },
  "language_info": {
   "codemirror_mode": {
    "name": "ipython",
    "version": 3
   },
   "file_extension": ".py",
   "mimetype": "text/x-python",
   "name": "python",
   "nbconvert_exporter": "python",
   "pygments_lexer": "ipython3",
   "version": "3.8.12"
  }
 },
 "nbformat": 4,
 "nbformat_minor": 4
}
